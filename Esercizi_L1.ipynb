{
 "cells": [
  {
   "cell_type": "markdown",
   "id": "29cc38fb",
   "metadata": {},
   "source": [
    "# Esercizio 1\n",
    "Trasformare cicli in list comprehension"
   ]
  },
  {
   "cell_type": "code",
   "execution_count": 21,
   "id": "c15aab62",
   "metadata": {},
   "outputs": [
    {
     "name": "stdout",
     "output_type": "stream",
     "text": [
      "Lista 1 con ciclo: [0, 1, 2, 3, 4, 5, 6, 7, 8, 9, 10, 11, 12, 13, 14, 15, 16, 17, 18, 19, 20]\n",
      "Lista 1 con list comprehension: [0, 1, 2, 3, 4, 5, 6, 7, 8, 9, 10, 11, 12, 13, 14, 15, 16, 17, 18, 19, 20]\n"
     ]
    }
   ],
   "source": [
    "# Lista dei numeri da 0 a 20\n",
    "list1_n = []\n",
    "for i in range(21):\n",
    "    list1_n.append(i)\n",
    "\n",
    "# List comprehension equivalente\n",
    "list1_c = [x for x in range(21)]\n",
    "\n",
    "print(\"Lista 1 con ciclo:\", list1_n)\n",
    "print(\"Lista 1 con list comprehension:\", list1_c)\n"
   ]
  },
  {
   "cell_type": "code",
   "execution_count": 22,
   "id": "27bf4be2",
   "metadata": {},
   "outputs": [
    {
     "name": "stdout",
     "output_type": "stream",
     "text": [
      "Lista 2 con ciclo: [0, 2, 4, 6, 8, 10, 12, 14, 16, 18, 20]\n",
      "Lista 2 con list comprehension: [0, 2, 4, 6, 8, 10, 12, 14, 16, 18, 20]\n"
     ]
    }
   ],
   "source": [
    "# Lista di numeri pari da 0 a 20\n",
    "list2_n = []\n",
    "for i in range(21):\n",
    "    if i % 2 == 0:\n",
    "        list2_n.append(i)\n",
    "\n",
    "# List comprehension equivalente\n",
    "list2_c = [x for x in range(21) if x % 2 == 0]\n",
    "\n",
    "print(\"Lista 2 con ciclo:\", list2_n)\n",
    "print(\"Lista 2 con list comprehension:\", list2_c)\n"
   ]
  },
  {
   "cell_type": "code",
   "execution_count": 23,
   "id": "9e153f5b",
   "metadata": {},
   "outputs": [
    {
     "name": "stdout",
     "output_type": "stream",
     "text": [
      "Lista 3 con ciclo: [2, 3, 5, 7, 11, 13, 17, 19, 23, 29, 31, 37, 41, 43, 47, 53, 59, 61, 67, 71, 73, 79, 83, 89, 97]\n",
      "Lista 3 con list comprehension: [2, 3, 5, 7, 11, 13, 17, 19, 23, 29, 31, 37, 41, 43, 47, 53, 59, 61, 67, 71, 73, 79, 83, 89, 97]\n"
     ]
    }
   ],
   "source": [
    "# Lista di numeri primi da 0 a 100\n",
    "\n",
    "def is_prime(n):\n",
    "    \"\"\"Ritorna True se il numero è primo, False altrimenti\"\"\"\n",
    "    if n == 0 or n == 1:\n",
    "        return False\n",
    "    elif n in [2, 3, 5, 7]:\n",
    "        return True\n",
    "    else:\n",
    "        for i in range(2, int(n/2)+1):\n",
    "            if n % i == 0:\n",
    "                return False\n",
    "    return True\n",
    "\n",
    "# Usando ciclo\n",
    "list3_n = []\n",
    "for i in range(101):\n",
    "    if is_prime(i):\n",
    "        list3_n.append(i)\n",
    "\n",
    "# Usando list comprehension\n",
    "list3_c = [x for x in range(101) if is_prime(x)]\n",
    "\n",
    "print(\"Lista 3 con ciclo:\", list3_n)\n",
    "print(\"Lista 3 con list comprehension:\", list3_c)\n"
   ]
  },
  {
   "cell_type": "markdown",
   "id": "b3454ded",
   "metadata": {},
   "source": [
    "# Esercizio 2\n",
    "Vettore di Numeri Primi"
   ]
  },
  {
   "cell_type": "code",
   "execution_count": 24,
   "id": "cc7b7a5e",
   "metadata": {},
   "outputs": [
    {
     "name": "stdout",
     "output_type": "stream",
     "text": [
      "Array: [2 3 5 7]\n"
     ]
    }
   ],
   "source": [
    "import numpy as np\n",
    "\n",
    "# Crea una lista con i numeri primi tra 0 e 10\n",
    "prime_list = [x for x in range(11) if is_prime(x)]\n",
    "\n",
    "# Crea array da lista\n",
    "prime_array = np.array(prime_list)\n",
    "\n",
    "print(f\"Array: {prime_array}\")\n"
   ]
  },
  {
   "cell_type": "code",
   "execution_count": 25,
   "id": "873d938b",
   "metadata": {},
   "outputs": [
    {
     "name": "stdout",
     "output_type": "stream",
     "text": [
      "L'array contiene 4 elementi\n",
      "L'array contiene 4 elementi\n"
     ]
    }
   ],
   "source": [
    "# Conta degli elementi\n",
    "print(f\"L'array contiene {len(prime_array)} elementi\")\n",
    "print(f\"L'array contiene {prime_array.size} elementi\")\n"
   ]
  },
  {
   "cell_type": "code",
   "execution_count": 26,
   "id": "6d662d5c",
   "metadata": {},
   "outputs": [
    {
     "name": "stdout",
     "output_type": "stream",
     "text": [
      "Il tipo di dato è int64\n"
     ]
    }
   ],
   "source": [
    "# Tipo di dato\n",
    "print(f\"Il tipo di dato è {prime_array.dtype}\")\n"
   ]
  },
  {
   "cell_type": "markdown",
   "id": "38e365ba",
   "metadata": {},
   "source": [
    "# Esercizio 3\n",
    "Operazioni su array"
   ]
  },
  {
   "cell_type": "code",
   "execution_count": 27,
   "id": "7d600fb1",
   "metadata": {},
   "outputs": [
    {
     "name": "stdout",
     "output_type": "stream",
     "text": [
      "L'array 'a' è: [ 4 30 23 58 20 76 12  3 79  8]\n"
     ]
    }
   ],
   "source": [
    "# Crea array 'a' con 10 numeri casuali da 0 a 100\n",
    "a = np.random.randint(1, 100, size=10)\n",
    "print(f\"L'array 'a' è: {a}\")\n"
   ]
  },
  {
   "cell_type": "code",
   "execution_count": 28,
   "id": "36f2ee16",
   "metadata": {},
   "outputs": [
    {
     "name": "stdout",
     "output_type": "stream",
     "text": [
      "L'array 'c' è: [ 8 79  3 12 76 20 58 23 30  4]\n"
     ]
    }
   ],
   "source": [
    "# Crea array 'c' invertendo 'a'\n",
    "c = np.flip(a)\n",
    "print(f\"L'array 'c' è: {c}\")\n"
   ]
  },
  {
   "cell_type": "code",
   "execution_count": 29,
   "id": "23f2435d",
   "metadata": {},
   "outputs": [
    {
     "name": "stdout",
     "output_type": "stream",
     "text": [
      "La divisione ha dato come risultato l'array [0.5  0.38 7.67 4.83 0.26 3.8  0.21 0.13 2.63 2.  ]\n"
     ]
    }
   ],
   "source": [
    "# Divisione elemento per elemento\n",
    "a_div = np.round(a / c, 2)\n",
    "print(f\"La divisione ha dato come risultato l'array {a_div}\")\n"
   ]
  },
  {
   "cell_type": "code",
   "execution_count": 30,
   "id": "b6d08daf",
   "metadata": {},
   "outputs": [
    {
     "name": "stdout",
     "output_type": "stream",
     "text": [
      "La divisione ha dato come risultato la lista [5.82, 0.2, 4.25, 2.05, 0.21, 0.77, 0.3, 6.62, 0.24, 6.46, 4.14]\n"
     ]
    }
   ],
   "source": [
    "# Divisione tra due liste casuali\n",
    "import random\n",
    "\n",
    "j = [random.randint(1, 100) for x in range(11)]\n",
    "t = [random.randint(1, 100) for x in range(11)]\n",
    "\n",
    "res = []\n",
    "for i in range(11):\n",
    "    res.append(round(j[i] / t[i], 2))\n",
    "\n",
    "print(f\"La divisione ha dato come risultato la lista {res}\")\n"
   ]
  }
 ],
 "metadata": {
  "kernelspec": {
   "display_name": "Python 3",
   "language": "python",
   "name": "python3"
  },
  "language_info": {
   "codemirror_mode": {
    "name": "ipython",
    "version": 3
   },
   "file_extension": ".py",
   "mimetype": "text/x-python",
   "name": "python",
   "nbconvert_exporter": "python",
   "pygments_lexer": "ipython3",
   "version": "3.12.3"
  }
 },
 "nbformat": 4,
 "nbformat_minor": 5
}
