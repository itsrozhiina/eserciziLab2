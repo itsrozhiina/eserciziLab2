{
 "cells": [
  {
   "cell_type": "markdown",
   "id": "a3298b39",
   "metadata": {},
   "source": [
    "# Esercizio 1: Indicizzazione booleana"
   ]
  },
  {
   "cell_type": "code",
   "execution_count": 1,
   "id": "25afc860",
   "metadata": {},
   "outputs": [
    {
     "name": "stdout",
     "output_type": "stream",
     "text": [
      "Numeri primi: [ 2  3  5  7 11 13 17 19]\n",
      "Numeri primi > 10: [11 13 17 19]\n",
      "Numeri primi pari: [2]\n"
     ]
    }
   ],
   "source": [
    "\n",
    "import numpy as np\n",
    "\n",
    "# 1. Numeri primi da 0 a 20\n",
    "primi = np.array([2, 3, 5, 7, 11, 13, 17, 19])\n",
    "print(\"Numeri primi:\", primi)\n",
    "\n",
    "# 2. Numeri maggiori di 10\n",
    "maggiori_10 = primi[primi > 10]\n",
    "print(\"Numeri primi > 10:\", maggiori_10)\n",
    "\n",
    "# 3. Numeri primi pari\n",
    "primi_pari = primi[primi % 2 == 0]\n",
    "print(\"Numeri primi pari:\", primi_pari)\n"
   ]
  },
  {
   "cell_type": "markdown",
   "id": "30865ff2",
   "metadata": {},
   "source": [
    "# Esercizio 2: Operazioni su array"
   ]
  },
  {
   "cell_type": "code",
   "execution_count": 2,
   "id": "3c2cbb86",
   "metadata": {},
   "outputs": [
    {
     "name": "stdout",
     "output_type": "stream",
     "text": [
      "Array a:\n",
      " [[9 1 2 3]\n",
      " [2 9 2 4]\n",
      " [9 7 8 5]\n",
      " [3 8 9 3]]\n",
      "Array b (2a e 4a riga):\n",
      " [[2 9 2 4]\n",
      " [3 8 9 3]]\n",
      "Array c (3a riga): [9 7 8 5]\n",
      "a diviso per c (colonna per colonna):\n",
      " [[1.         0.14285714 0.25       0.6       ]\n",
      " [0.22222222 1.28571429 0.25       0.8       ]\n",
      " [1.         1.         1.         1.        ]\n",
      " [0.33333333 1.14285714 1.125      0.6       ]]\n"
     ]
    }
   ],
   "source": [
    "\n",
    "# Creazione array 2D\n",
    "a = np.random.randint(1, 10, (4, 4))\n",
    "print(\"Array a:\\n\", a)\n",
    "\n",
    "# Array b: 2a e 4a riga\n",
    "b = a[[1, 3], :]\n",
    "print(\"Array b (2a e 4a riga):\\n\", b)\n",
    "\n",
    "# Array c: solo 3a riga\n",
    "c = a[2, :]\n",
    "print(\"Array c (3a riga):\", c)\n",
    "\n",
    "# Divisione colonne di a per c\n",
    "div = a / c\n",
    "print(\"a diviso per c (colonna per colonna):\\n\", div)\n"
   ]
  },
  {
   "cell_type": "markdown",
   "id": "78ce876f",
   "metadata": {},
   "source": [
    "# Esercizio 3: Seleziona il numero più vicino a 0.5 in un array casuale"
   ]
  },
  {
   "cell_type": "code",
   "execution_count": 3,
   "id": "ae6364d6",
   "metadata": {},
   "outputs": [
    {
     "name": "stdout",
     "output_type": "stream",
     "text": [
      "Array originale:\n",
      " [[0.01492139 0.77956988 0.09678011]\n",
      " [0.17358786 0.43405954 0.11782202]\n",
      " [0.62250628 0.71795094 0.31279244]\n",
      " [0.95529848 0.97858342 0.15878714]\n",
      " [0.62957977 0.84034594 0.21268351]\n",
      " [0.64717178 0.72921579 0.8398362 ]\n",
      " [0.40212202 0.68090728 0.79606153]\n",
      " [0.95127685 0.94179363 0.51432025]\n",
      " [0.05931176 0.44555051 0.51765435]\n",
      " [0.61515889 0.29541114 0.56801809]]\n",
      "Valori più vicini a 0.5 per riga: [0.77956988 0.43405954 0.62250628 0.15878714 0.62957977 0.64717178\n",
      " 0.40212202 0.51432025 0.51765435 0.56801809]\n"
     ]
    }
   ],
   "source": [
    "\n",
    "array = np.random.rand(10, 3)\n",
    "print(\"Array originale:\\n\", array)\n",
    "\n",
    "# Trova indice del valore più vicino a 0.5 in ogni riga\n",
    "indici = np.abs(array - 0.5).argmin(axis=1)\n",
    "\n",
    "# Fancy indexing per selezionare i valori\n",
    "valori = array[np.arange(10), indici]\n",
    "print(\"Valori più vicini a 0.5 per riga:\", valori)\n"
   ]
  },
  {
   "cell_type": "markdown",
   "id": "0bacbf2a",
   "metadata": {},
   "source": [
    "# Esercizio 4: Analisi della Frequenza Cardiaca con NumPy"
   ]
  },
  {
   "cell_type": "code",
   "execution_count": 4,
   "id": "8a28ba94",
   "metadata": {},
   "outputs": [
    {
     "name": "stdout",
     "output_type": "stream",
     "text": [
      "Minima: 60\n",
      "Massima: 164\n",
      "Percentuale sopra 120 bpm: 52.38 %\n"
     ]
    }
   ],
   "source": [
    "\n",
    "battiti = np.array([\n",
    "    68, 65, 77, 110, 160, 161, 162, 161, 160, 161, 162,\n",
    "    163, 164, 163, 162, 100, 90, 97, 72, 60, 70\n",
    "])\n",
    "\n",
    "# Frequenza minima\n",
    "print(\"Minima:\", battiti.min())\n",
    "\n",
    "# Frequenza massima\n",
    "print(\"Massima:\", battiti.max())\n",
    "\n",
    "# Percentuale sopra 120\n",
    "sopra_120 = battiti > 120\n",
    "percentuale = sopra_120.sum() / len(battiti) * 100\n",
    "print(\"Percentuale sopra 120 bpm:\", round(percentuale, 2), \"%\")\n"
   ]
  }
 ],
 "metadata": {
  "kernelspec": {
   "display_name": "Python 3",
   "language": "python",
   "name": "python3"
  },
  "language_info": {
   "codemirror_mode": {
    "name": "ipython",
    "version": 3
   },
   "file_extension": ".py",
   "mimetype": "text/x-python",
   "name": "python",
   "nbconvert_exporter": "python",
   "pygments_lexer": "ipython3",
   "version": "3.12.3"
  }
 },
 "nbformat": 4,
 "nbformat_minor": 5
}
