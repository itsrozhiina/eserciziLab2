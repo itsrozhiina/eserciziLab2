{
 "cells": [
  {
   "cell_type": "markdown",
   "id": "e687ad5e",
   "metadata": {},
   "source": [
    "# Esercizio 5: Manipolazione di vettori"
   ]
  },
  {
   "cell_type": "code",
   "execution_count": 2,
   "id": "0202fac5",
   "metadata": {},
   "outputs": [
    {
     "name": "stdout",
     "output_type": "stream",
     "text": [
      "Stipendi iniziali: [ 50000. 105250.  55000.  89000.]\n",
      "Costo totale iniziale: 299250.0\n",
      "Dopo aumento CEO: [ 50000.  121037.5  55000.   89000. ]\n",
      "Dopo aumento impiegata: [ 60000.  121037.5  55000.   89000. ]\n",
      "Dopo aumento altri: [ 60000.   133141.25  60500.    97900.  ]\n",
      "Costo totale finale: 351541.25\n"
     ]
    }
   ],
   "source": [
    "import numpy as np\n",
    "\n",
    "# Creazione array con dtype corretto\n",
    "stipendi = np.array([50000, 105250, 55000, 89000], dtype=float)\n",
    "print(\"Stipendi iniziali:\", stipendi)\n",
    "\n",
    "# Costo iniziale\n",
    "print(\"Costo totale iniziale:\", stipendi.sum())\n",
    "\n",
    "# Aumento CEO del 15%\n",
    "stipendi[stipendi == 105250.0] *= 1.15\n",
    "print(\"Dopo aumento CEO:\", stipendi)\n",
    "\n",
    "# Aumento impiegata da 50000 del 20%\n",
    "stipendi[stipendi == 50000.0] *= 1.2\n",
    "print(\"Dopo aumento impiegata:\", stipendi)\n",
    "\n",
    "# Aumento altri del 10%\n",
    "for i in range(len(stipendi)):\n",
    "    if stipendi[i] not in [60000.0, 121037.5]:\n",
    "        stipendi[i] *= 1.1\n",
    "print(\"Dopo aumento altri:\", stipendi)\n",
    "\n",
    "# Costo finale\n",
    "print(\"Costo totale finale:\", round(stipendi.sum(), 2))\n",
    "\n"
   ]
  },
  {
   "cell_type": "markdown",
   "id": "500b24b7",
   "metadata": {},
   "source": [
    "# Esercizio 6: Valori di CO₂"
   ]
  },
  {
   "cell_type": "code",
   "execution_count": 3,
   "id": "f69904c2",
   "metadata": {},
   "outputs": [
    {
     "name": "stdout",
     "output_type": "stream",
     "text": [
      "Valori sopra la soglia: [22 30 25 19]\n",
      "Media valori sopra soglia: 24.0\n",
      "Frazione sopra soglia: 0.53\n"
     ]
    }
   ],
   "source": [
    "\n",
    "co2 = np.array([10, 15, 22, 30, 18, 12, 25, 19, 14, 17])\n",
    "soglia = 18\n",
    "\n",
    "sopra_soglia = co2[co2 > soglia]\n",
    "print(\"Valori sopra la soglia:\", sopra_soglia)\n",
    "\n",
    "# Media valori sopra soglia\n",
    "print(\"Media valori sopra soglia:\", sopra_soglia.mean())\n",
    "\n",
    "# Frazione totale sopra soglia\n",
    "frazione = sopra_soglia.sum() / co2.sum()\n",
    "print(\"Frazione sopra soglia:\", round(frazione, 2))\n"
   ]
  },
  {
   "cell_type": "markdown",
   "id": "5752ca25",
   "metadata": {},
   "source": [
    "# Esercizio 7: Analisi di una matrice"
   ]
  },
  {
   "cell_type": "code",
   "execution_count": 4,
   "id": "212ddee4",
   "metadata": {},
   "outputs": [
    {
     "name": "stdout",
     "output_type": "stream",
     "text": [
      "Intervistati con almeno 12 anni: [[   32 52000    12]\n",
      " [   40 63000    14]\n",
      " [   35 58000    13]]\n",
      "Redditi: [52000 63000 58000]\n",
      "Reddito medio: 57666.666666666664\n"
     ]
    }
   ],
   "source": [
    "\n",
    "survey_matrix = np.array([\n",
    "    [25, 40000, 10],\n",
    "    [32, 52000, 12],\n",
    "    [40, 63000, 14],\n",
    "    [29, 47000, 11],\n",
    "    [35, 58000, 13]\n",
    "])\n",
    "\n",
    "# 1. Solo chi ha almeno 12 anni istruzione\n",
    "mask = survey_matrix[:, 2] >= 12\n",
    "filtered = survey_matrix[mask]\n",
    "print(\"Intervistati con almeno 12 anni:\", filtered)\n",
    "\n",
    "# 2. Redditi di questi\n",
    "redditi = filtered[:, 1]\n",
    "print(\"Redditi:\", redditi)\n",
    "\n",
    "# 3. Reddito medio\n",
    "print(\"Reddito medio:\", redditi.mean())\n"
   ]
  },
  {
   "cell_type": "markdown",
   "id": "b62b0d1c",
   "metadata": {},
   "source": [
    "# Esercizio 8: Rimpiacare gli outliers"
   ]
  },
  {
   "cell_type": "code",
   "execution_count": 5,
   "id": "1c7570d7",
   "metadata": {},
   "outputs": [
    {
     "name": "stdout",
     "output_type": "stream",
     "text": [
      "Età pulite: [ 92 108  75  63  62  60  96  98  84  85  78  65]\n",
      "Età più anziana: 108\n"
     ]
    }
   ],
   "source": [
    "\n",
    "ages = np.array([92, 108, 75, 63, 62, 60, 96, 98, 999, 84, 85, 999, 78, 65])\n",
    "ages_clean = ages[ages != 999]\n",
    "print(\"Età pulite:\", ages_clean)\n",
    "print(\"Età più anziana:\", ages_clean.max())\n"
   ]
  },
  {
   "cell_type": "markdown",
   "id": "4210bb2e",
   "metadata": {},
   "source": [
    "# Esercizio 9: Generazione random di storie"
   ]
  },
  {
   "cell_type": "code",
   "execution_count": 6,
   "id": "5d1900a9",
   "metadata": {},
   "outputs": [
    {
     "name": "stdout",
     "output_type": "stream",
     "text": [
      "\n",
      "In epoche passate, viveva una donna saggia che era molto orgogliosa dell’antico DIFFERENZA che proteggeva.\n",
      "Quando un anziano del villaggio venne a chiederle consiglio su come garantire al meglio un raccolto abbondante e le offrì il INSEDIAMENTO come dono,\n",
      "i suoi occhi si spalancarono e lei esclamò una sola parola: “PALLONCINO”.\n",
      "\n",
      "Radunò il villaggio e, per i successivi 100 giorni, su sua richiesta, gli abitanti cercarono nella foresta un GIUSTIFICAZIONE.\n",
      "Nel 101° giorno, il bambino più giovane del villaggio trovò ciò che stavano cercando e tutti corsero dalla donna saggia per donarglielo.\n",
      "Con un sorriso da un orecchio all’altro, e cantando canti di festa, la donna saggia guardò i suoi compaesani e disse:\n",
      "“Ora è giunto il tempo del banchetto – nessuno rimarrà mai più senza BIRILLO DA BOWLING!”.\n",
      "Ci fu grande gioia e celebrazione.\n",
      "\n"
     ]
    }
   ],
   "source": [
    "\n",
    "import random\n",
    "\n",
    "lista_parole = [\n",
    "    'INSEDIAMENTO', 'SEPARAZIONE', 'DIFFERENZA', 'APPLICAZIONE', 'ATTEGGIAMENTO',\n",
    "    'IGNORANZA', 'BIOGRAFIA', 'VISIONE', 'AGENTE DI POLIZIA', 'PROVA', 'PRESTAZIONE',\n",
    "    'GIUSTIFICAZIONE', 'FILOSOFIA', 'DIREZIONE', 'BENEFICIARIO', 'BATTERIA',\n",
    "    'ALFABETIZZAZIONE', 'CONSEGNA', 'SERBATOIO', 'VOLONTARIATO', 'DEPOSITO',\n",
    "    'BIRILLO DA BOWLING', 'CARAMELLA ZUCCHERATA', 'FULMINE', 'PALLONCINO', 'COPERTA',\n",
    "    'SCOPERTA', 'PENALITÀ', 'VANTAGGIO', 'HOT DOG', 'ABITO', 'MATEMATICA', 'VARIANTE'\n",
    "]\n",
    "\n",
    "estratte = random.choices(lista_parole, k=5)\n",
    "\n",
    "frase = f'''\n",
    "In epoche passate, viveva una donna saggia che era molto orgogliosa dell’antico {estratte[0]} che proteggeva.\n",
    "Quando un anziano del villaggio venne a chiederle consiglio su come garantire al meglio un raccolto abbondante e le offrì il {estratte[1]} come dono,\n",
    "i suoi occhi si spalancarono e lei esclamò una sola parola: “{estratte[2]}”.\n",
    "\n",
    "Radunò il villaggio e, per i successivi 100 giorni, su sua richiesta, gli abitanti cercarono nella foresta un {estratte[3]}.\n",
    "Nel 101° giorno, il bambino più giovane del villaggio trovò ciò che stavano cercando e tutti corsero dalla donna saggia per donarglielo.\n",
    "Con un sorriso da un orecchio all’altro, e cantando canti di festa, la donna saggia guardò i suoi compaesani e disse:\n",
    "“Ora è giunto il tempo del banchetto – nessuno rimarrà mai più senza {estratte[4]}!”.\n",
    "Ci fu grande gioia e celebrazione.\n",
    "'''\n",
    "print(frase)\n"
   ]
  }
 ],
 "metadata": {
  "kernelspec": {
   "display_name": "Python 3",
   "language": "python",
   "name": "python3"
  },
  "language_info": {
   "codemirror_mode": {
    "name": "ipython",
    "version": 3
   },
   "file_extension": ".py",
   "mimetype": "text/x-python",
   "name": "python",
   "nbconvert_exporter": "python",
   "pygments_lexer": "ipython3",
   "version": "3.12.3"
  }
 },
 "nbformat": 4,
 "nbformat_minor": 5
}
