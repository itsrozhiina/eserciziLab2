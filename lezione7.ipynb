{
 "cells": [
  {
   "cell_type": "markdown",
   "id": "06112f01",
   "metadata": {},
   "source": [
    "# Esercizi Lezione 7 - Con Soluzioni"
   ]
  },
  {
   "cell_type": "markdown",
   "id": "d5d28d33",
   "metadata": {},
   "source": [
    "## Esercizio 1\n",
    "**Obiettivo:** Costruire un modello di regressione polinomiale che approssima l’andamento del numero di passeggeri nel tempo."
   ]
  },
  {
   "cell_type": "code",
   "execution_count": null,
   "id": "2e190c17",
   "metadata": {},
   "outputs": [],
   "source": [
    "import numpy as np\n",
    "import pandas as pd\n",
    "import plotly.express as px\n",
    "import matplotlib.pyplot as plt\n",
    "from sklearn.preprocessing import PolynomialFeatures\n",
    "from sklearn.pipeline import make_pipeline\n",
    "from sklearn.linear_model import LinearRegression\n",
    "from sklearn.model_selection import train_test_split\n",
    "from sklearn.metrics import mean_absolute_error, mean_squared_error\n",
    "from datetime import datetime"
   ]
  },
  {
   "cell_type": "markdown",
   "id": "940f9610",
   "metadata": {},
   "source": [
    "### Punto 1: Caricamento e preparazione del dataset"
   ]
  },
  {
   "cell_type": "code",
   "execution_count": null,
   "id": "7c1b1f02",
   "metadata": {},
   "outputs": [],
   "source": [
    "data_df = pd.read_csv(\"data.csv\")\n",
    "data_df[\"date\"] = pd.to_datetime(data_df[\"date\"], format='%Y-%m').dt.to_period('M')\n",
    "data_df.dropna(axis=0, inplace=True)\n",
    "data_df.reset_index(inplace=True)\n",
    "data_df"
   ]
  },
  {
   "cell_type": "markdown",
   "id": "ea48b522",
   "metadata": {},
   "source": [
    "### Punto 2: Aggiunta colonna `mese_numerico`"
   ]
  },
  {
   "cell_type": "code",
   "execution_count": null,
   "id": "a2694c8d",
   "metadata": {},
   "outputs": [],
   "source": [
    "data_df[\"mese_numerico\"] = range(len(data_df))\n",
    "data_df"
   ]
  },
  {
   "cell_type": "markdown",
   "id": "1572e02a",
   "metadata": {},
   "source": [
    "### Punto 3: Divisione train/test e regressione"
   ]
  },
  {
   "cell_type": "code",
   "execution_count": null,
   "id": "8e52e9c1",
   "metadata": {},
   "outputs": [],
   "source": [
    "X = data_df[\"mese_numerico\"].values.reshape(-1, 1)\n",
    "y = data_df[\"passengers\"].values\n",
    "\n",
    "# Visualizzazione\n",
    "plt.figure(figsize=(12,6))\n",
    "plt.plot(X, y, marker='o', linestyle='-', label='Numero passeggeri')\n",
    "plt.title('Numeri di passeggeri per mese')\n",
    "plt.xlabel('Date')\n",
    "plt.ylabel('Passengers')\n",
    "plt.legend()\n",
    "plt.grid(True)\n",
    "plt.show()"
   ]
  },
  {
   "cell_type": "code",
   "execution_count": null,
   "id": "03960fff",
   "metadata": {},
   "outputs": [],
   "source": [
    "# Divisione train/test\n",
    "X_train, X_test, y_train, y_test = train_test_split(X, y, test_size=40, shuffle=False)\n",
    "\n",
    "# Regressione lineare\n",
    "model_linear = LinearRegression()\n",
    "model_linear.fit(X_train, y_train)\n",
    "y_pred_linear = model_linear.predict(X_test)\n",
    "\n",
    "# Regressione polinomiale di grado 3\n",
    "model_poly3 = make_pipeline(PolynomialFeatures(3), LinearRegression())\n",
    "model_poly3.fit(X_train, y_train)\n",
    "y_pred_poly3 = model_poly3.predict(X_test)"
   ]
  },
  {
   "cell_type": "markdown",
   "id": "1ed88a01",
   "metadata": {},
   "source": [
    "### Punto 4: Calcolo MAE e RMSE"
   ]
  },
  {
   "cell_type": "code",
   "execution_count": null,
   "id": "26084167",
   "metadata": {},
   "outputs": [],
   "source": [
    "mae_linear = mean_absolute_error(y_test, y_pred_linear)\n",
    "mae_poly3 = mean_absolute_error(y_test, y_pred_poly3)\n",
    "rmse_linear = mean_squared_error(y_test, y_pred_linear, squared=False)\n",
    "rmse_poly3 = mean_squared_error(y_test, y_pred_poly3, squared=False)"
   ]
  },
  {
   "cell_type": "markdown",
   "id": "96990abc",
   "metadata": {},
   "source": [
    "### Punto 5: Visualizzazione Plotly"
   ]
  },
  {
   "cell_type": "code",
   "execution_count": null,
   "id": "5d47266e",
   "metadata": {},
   "outputs": [],
   "source": [
    "df_plot = pd.DataFrame({\n",
    "    \"mese_numerico\": X_test.ravel(),\n",
    "    \"Reale\": y_test,\n",
    "    \"Lineare\": y_pred_linear,\n",
    "    \"Polinomiale grado 3\": y_pred_poly3\n",
    "})\n",
    "\n",
    "df_long = df_plot.melt(id_vars=\"mese_numerico\", \n",
    "                       value_vars=[\"Reale\", \"Lineare\", \"Polinomiale grado 3\"], \n",
    "                       var_name=\"Serie\", value_name=\"Passeggeri\")\n",
    "\n",
    "fig = px.line(df_long,\n",
    "              x=\"mese_numerico\",\n",
    "              y=\"Passeggeri\",\n",
    "              color=\"Serie\",\n",
    "              marker=True,\n",
    "              title=\"Confronto valori reali vs stime (lineare & polinomiale grado 3)\")\n",
    "\n",
    "fig.update_layout(xaxis_title=\"Mese numerico\",\n",
    "                  yaxis_title=\"Passengers\",\n",
    "                  template=\"plotly_white\")\n",
    "\n",
    "fig.add_annotation(\n",
    "    xref=\"paper\", yref=\"paper\",\n",
    "    x=0.02, y=0.98, showarrow=False, align=\"left\",\n",
    "    text=f\"\"\"MAE lineare = {mae_linear:.2f}<br>\n",
    "           MAE polinomiale = {mae_poly3:.2f}<br>\n",
    "           RMSE lineare = {rmse_linear:.2f}<br>\n",
    "           RMSE polinomiale = {rmse_poly3:.2f}\"\"\")\n",
    "\n",
    "fig.show()"
   ]
  },
  {
   "cell_type": "markdown",
   "id": "7803740a",
   "metadata": {},
   "source": [
    "## Esercizio 2: Web App interattiva con Dash"
   ]
  },
  {
   "cell_type": "code",
   "execution_count": null,
   "id": "6fddaf09",
   "metadata": {},
   "outputs": [],
   "source": [
    "x = np.random.uniform(-3, 3, 100).reshape(-1, 1)\n",
    "y_true = x.ravel()**3 - x.ravel()\n",
    "y = y_true + np.random.normal(scale=1.0, size=len(x))"
   ]
  },
  {
   "cell_type": "code",
   "execution_count": null,
   "id": "c4b1893f",
   "metadata": {},
   "outputs": [],
   "source": [
    "import dash\n",
    "from dash import dcc, html\n",
    "from dash.dependencies import Input, Output\n",
    "\n",
    "x_train, x_test, y_train, y_test = train_test_split(\n",
    "    x, y, test_size=0.2, shuffle=False\n",
    ")\n",
    "\n",
    "app = dash.Dash(__name__)\n",
    "\n",
    "app.layout = html.Div([\n",
    "    html.H3(\"Seleziona il grado del polinomio\"),\n",
    "    dcc.Slider(id='slider-numero', min=1, max=10, step=1, value=1,\n",
    "               marks={i: str(i) for i in range(1, 11)}),\n",
    "    html.Div(id='output-plot')\n",
    "])\n",
    "\n",
    "@app.callback(\n",
    "    Output('output-plot', 'children'),\n",
    "    Input('slider-numero', 'value')\n",
    ")\n",
    "def plot_with_regression(valore):\n",
    "    model_polyN = make_pipeline(PolynomialFeatures(valore), LinearRegression())\n",
    "    model_polyN.fit(x_train, y_train)\n",
    "    x_grid = np.linspace(x.min(), x.max(), 200).reshape(-1, 1)\n",
    "    y_grid = model_polyN.predict(x_grid)\n",
    "\n",
    "    df_real = pd.DataFrame({\"x\": x.ravel(), \"y\": y})\n",
    "    df_curve = pd.DataFrame({\"x\": x_grid.ravel(), \"y\": y_grid})\n",
    "\n",
    "    fig = px.scatter(df_real, x=\"x\", y=\"y\",\n",
    "                     title=\"Dynamic regression model\",\n",
    "                     labels={\"x\": \"x value\", \"y\": \"y value\"},\n",
    "                     opacity=0.7)\n",
    "\n",
    "    fig.add_traces(px.line(df_curve, x=\"x\", y=\"y\").update_traces(name=f\"Poly degree {valore}\").data)\n",
    "    fig.update_layout(template=\"plotly_white\")\n",
    "    return dcc.Graph(figure=fig)\n",
    "\n",
    "if __name__ == \"__main__\":\n",
    "    app.run_server(debug=True)"
   ]
  }
 ],
 "metadata": {
  "kernelspec": {
   "display_name": "Python 3",
   "language": "python",
   "name": "python3"
  },
  "language_info": {
   "name": "python",
   "version": "3.9"
  }
 },
 "nbformat": 4,
 "nbformat_minor": 5
}
